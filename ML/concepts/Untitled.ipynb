{
 "cells": [
  {
   "cell_type": "code",
   "execution_count": 1,
   "id": "57f903f6",
   "metadata": {},
   "outputs": [],
   "source": [
    "import numpy as np \n",
    "import matplotlib.pyplot as plt"
   ]
  },
  {
   "cell_type": "markdown",
   "id": "c09dbfbe",
   "metadata": {},
   "source": [
    "### METHOD 1 (Using normal distribution Z-score)"
   ]
  },
  {
   "cell_type": "code",
   "execution_count": 27,
   "id": "f84d703e",
   "metadata": {},
   "outputs": [],
   "source": [
    "dataset = [11, 10, 12, 14, 13, 15, 14, 12, 14, 17, 19, 107, 10\n",
    "           , 13, 12, 14, 17, 19, 107, 10, 13, 12, 14, 12, 108,\n",
    "           12, 11, 14, 13, 15, 12, 10, 14, 15, 10]"
   ]
  },
  {
   "cell_type": "code",
   "execution_count": 28,
   "id": "f99c1208",
   "metadata": {},
   "outputs": [
    {
     "data": {
      "text/plain": [
       "(array([32.,  0.,  0.,  0.,  0.,  0.,  0.,  0.,  0.,  3.]),\n",
       " array([ 10. ,  19.8,  29.6,  39.4,  49.2,  59. ,  68.8,  78.6,  88.4,\n",
       "         98.2, 108. ]),\n",
       " <BarContainer object of 10 artists>)"
      ]
     },
     "execution_count": 28,
     "metadata": {},
     "output_type": "execute_result"
    },
    {
     "data": {
      "image/png": "[encoded data removed]",
      "text/plain": [
       "<Figure size 432x288 with 1 Axes>"
      ]
     },
     "metadata": {
      "needs_background": "light"
     },
     "output_type": "display_data"
    }
   ],
   "source": [
    "plt.hist(dataset)"
   ]
  },
  {
   "cell_type": "code",
   "execution_count": 44,
   "id": "7f74bc67",
   "metadata": {},
   "outputs": [],
   "source": [
    "# using Z-score to find the outlier\n",
    "outliers = []\n",
    "def detect_outliers(data):\n",
    "    threshold = 3 # 3rd standard deviatoin \n",
    "    mean = np.mean(data)\n",
    "    std = np.std(data)\n",
    "    \n",
    "    for i in data:\n",
    "        z_score = (i - mean)/std\n",
    "        if np.abs(z_score) > threshold:\n",
    "            outliers.append(i)\n",
    "    return outliers"
   ]
  },
  {
   "cell_type": "code",
   "execution_count": 46,
   "id": "afd74203",
   "metadata": {},
   "outputs": [
    {
     "data": {
      "text/plain": [
       "[107, 107, 108, 107, 107, 108]"
      ]
     },
     "execution_count": 46,
     "metadata": {},
     "output_type": "execute_result"
    }
   ],
   "source": [
    "detect_outliers(dataset)"
   ]
  },
  {
   "cell_type": "markdown",
   "id": "9e368491",
   "metadata": {},
   "source": [
    "### METHOD 2 (Using IQR)"
   ]
  },
  {
   "cell_type": "markdown",
   "id": "27ae8b65",
   "metadata": {},
   "source": [
    "1) Sort the data \n",
    "2) Calculate the Q1(25%) Q3(75%)\n",
    "3) IQR -> Q3 - Q1\n",
    "4) Finding the lower fence (Q1 - 1.5(IQR))\n",
    "5) Finding the upper fence (Q3 + 1.5(IQR))\n",
    "\n",
    "data points the lie below the lower fence or higher than the upper fence are considered as outliers "
   ]
  },
  {
   "cell_type": "code",
   "execution_count": 49,
   "id": "f1a68727",
   "metadata": {},
   "outputs": [],
   "source": [
    "dataset = sorted(dataset)"
   ]
  },
  {
   "cell_type": "code",
   "execution_count": 66,
   "id": "60111623",
   "metadata": {},
   "outputs": [
    {
     "name": "stdout",
     "output_type": "stream",
     "text": [
      "7.5 19.5\n"
     ]
    }
   ],
   "source": [
    "Q1,Q3 = np.percentile(dataset,[25,75])\n",
    "IQR = Q3 - Q1\n",
    "\n",
    "# LOWER FENCE \n",
    "lowerFence = Q1 - 1.5*IQR\n",
    "# UPPER FENCE \n",
    "upperFence = Q3 + 1.5*IQR\n",
    "print(lowerFence,upperFence)"
   ]
  },
  {
   "cell_type": "code",
   "execution_count": 74,
   "id": "e3d8cbdf",
   "metadata": {},
   "outputs": [
    {
     "name": "stdout",
     "output_type": "stream",
     "text": [
      "[19, 19, 107, 107, 108]\n"
     ]
    }
   ],
   "source": [
    "outLiers = []\n",
    "# Range takes value in int\n",
    "for i in dataset:\n",
    "    if i not in range(int(lowerFence),int(upperFence)):\n",
    "        outLiers.append(i)\n",
    "print(outLiers)"
   ]
  },
  {
   "cell_type": "markdown",
   "id": "109be7cf",
   "metadata": {},
   "source": [
    "### METHOD 3 (Usign Box Plot for visulalization) "
   ]
  },
  {
   "cell_type": "code",
   "execution_count": 76,
   "id": "ace5f2ad",
   "metadata": {},
   "outputs": [],
   "source": [
    "import seaborn as sns"
   ]
  },
  {
   "cell_type": "code",
   "execution_count": 78,
   "id": "dbd21f98",
   "metadata": {},
   "outputs": [
    {
     "name": "stderr",
     "output_type": "stream",
     "text": [
      "D:\\Python\\lib\\site-packages\\seaborn\\_decorators.py:36: FutureWarning: Pass the following variable as a keyword arg: x. From version 0.12, the only valid positional argument will be `data`, and passing other arguments without an explicit keyword will result in an error or misinterpretation.\n",
      "  warnings.warn(\n"
     ]
    },
    {
     "data": {
      "text/plain": [
       "<AxesSubplot:>"
      ]
     },
     "execution_count": 78,
     "metadata": {},
     "output_type": "execute_result"
    },
    {
     "data": {
      "image/png": "[encoded data removed]",
      "text/plain": [
       "<Figure size 432x288 with 1 Axes>"
      ]
     },
     "metadata": {
      "needs_background": "light"
     },
     "output_type": "display_data"
    }
   ],
   "source": [
    "sns.boxplot(dataset)"
   ]
  },
  {
   "cell_type": "code",
   "execution_count": null,
   "id": "fe001b11",
   "metadata": {},
   "outputs": [],
   "source": []
  }
 ],
 "metadata": {
  "kernelspec": {
   "display_name": "Python 3 (ipykernel)",
   "language": "python",
   "name": "python3"
  },
  "language_info": {
   "codemirror_mode": {
    "name": "ipython",
    "version": 3
   },
   "file_extension": ".py",
   "mimetype": "text/x-python",
   "name": "python",
   "nbconvert_exporter": "python",
   "pygments_lexer": "ipython3",
   "version": "3.10.2"
  }
 },
 "nbformat": 4,
 "nbformat_minor": 5
}
